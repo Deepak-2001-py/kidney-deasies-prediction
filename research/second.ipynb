{
 "cells": [
  {
   "cell_type": "code",
   "execution_count": 1,
   "metadata": {},
   "outputs": [],
   "source": [
    "import os "
   ]
  },
  {
   "cell_type": "code",
   "execution_count": 2,
   "metadata": {},
   "outputs": [
    {
     "data": {
      "text/plain": [
       "'c:\\\\Users\\\\International Food\\\\Desktop\\\\New folder (2)\\\\kidney deasies prediction\\\\research'"
      ]
     },
     "execution_count": 2,
     "metadata": {},
     "output_type": "execute_result"
    }
   ],
   "source": [
    "%pwd"
   ]
  },
  {
   "cell_type": "code",
   "execution_count": 3,
   "metadata": {},
   "outputs": [],
   "source": [
    "os.chdir(\"../\")"
   ]
  },
  {
   "cell_type": "code",
   "execution_count": 4,
   "metadata": {},
   "outputs": [],
   "source": [
    "from dataclasses import dataclass\n",
    "from pathlib import Path \n",
    "@dataclass\n",
    "class Trainingconfig:\n",
    "    root_dir: Path\n",
    "    trained_model_path:Path\n",
    "    updated_base_model_path: Path\n",
    "    training_data: Path\n",
    "    params_epochs: int\n",
    "    params_batch: int\n",
    "    params_is_augmentation: bool\n",
    "    params_image_size: list"
   ]
  },
  {
   "cell_type": "code",
   "execution_count": 5,
   "metadata": {},
   "outputs": [],
   "source": [
    "from src.ccnClassifier.constants import *\n",
    "from src.ccnClassifier.utils.common import read_yaml,create_directories"
   ]
  },
  {
   "cell_type": "code",
   "execution_count": 6,
   "metadata": {},
   "outputs": [],
   "source": [
    "import tensorflow as tf"
   ]
  },
  {
   "cell_type": "code",
   "execution_count": 7,
   "metadata": {},
   "outputs": [],
   "source": [
    "class ConfigurationManager:\n",
    "    def __init__(self,\n",
    "    config_filepath= CONFIG_FILE_PATH,\n",
    "    params_filepath =PARAMS_FILE_PATH):\n",
    "        \n",
    "        self.config=read_yaml(config_filepath)\n",
    "        self.params=read_yaml(params_filepath)\n",
    "        create_directories([self.config.artifacts_root])\n",
    "        \n",
    "        \n",
    "    def get_training_config(self)->Trainingconfig:\n",
    "        training=self.config.training\n",
    "        training_data=self.config.data_ingestion\n",
    "        params=self.params\n",
    "        prepare_base_model_path=self.config.prepare_base_model\n",
    "        create_directories(\n",
    "            [Path(training.root_dir)]\n",
    "        )\n",
    "        \n",
    "        training_config=Trainingconfig(\n",
    "            root_dir = Path(training.root_dir),\n",
    "            trained_model_path=Path(training.trained_model_path),\n",
    "            updated_base_model_path= Path(prepare_base_model_path.updated_base_model_path),\n",
    "            training_data=Path(os.path.join(training_data.unzip_dir,\"kidney-ct-scan-image\")),\n",
    "            params_epochs=params.EPOCHES,\n",
    "            params_batch=params.BATCH_SIZE,\n",
    "            params_is_augmentation=params.AUGNENTATION,\n",
    "            params_image_size=params.IMAGE_SIZE\n",
    "            \n",
    "            )\n",
    "        \n",
    "        return training_config"
   ]
  },
  {
   "cell_type": "code",
   "execution_count": 8,
   "metadata": {},
   "outputs": [],
   "source": [
    "import os\n",
    "import urllib.request as request\n",
    "from zipfile import ZipFile\n",
    "import tensorflow as tf\n",
    "import time"
   ]
  },
  {
   "cell_type": "code",
   "execution_count": 9,
   "metadata": {},
   "outputs": [],
   "source": [
    "\n",
    "class Training:\n",
    "    def __init__(self,config: Trainingconfig):\n",
    "        self.config=config\n",
    "        \n",
    "    def get_base_model(self):\n",
    "        self.model=tf.keras.models.load_model(\n",
    "            self.config.updated_base_model_path\n",
    "            )\n",
    "        \n",
    "        \n",
    "    def train_valid_generator(self):\n",
    "        \n",
    "        datagenerator_kwargs=dict(rescale=1./255,\n",
    "                                validation_split=0.20)\n",
    "        dataflow_kwargs=dict(\n",
    "            target_size=self.config.params_image_size[:-1],\n",
    "            interpolation=\"bilinear\"\n",
    "        )\n",
    "            \n",
    "        valid_datagenerator = tf.keras.preprocessing.image.ImageDataGenerator(\n",
    "            **datagenerator_kwargs\n",
    "        )\n",
    "\n",
    "        self.valid_generator = valid_datagenerator.flow_from_directory(\n",
    "            directory=self.config.training_data,\n",
    "            subset=\"validation\",\n",
    "            shuffle=False,\n",
    "            **dataflow_kwargs\n",
    "        )\n",
    "        \n",
    "        if self.config.params_is_augmentation:\n",
    "            train_datagenerator=tf.keras.preprocessing.image.ImageDataGenerator(\n",
    "            rotation_range=40,\n",
    "            horizontal_flip=True,\n",
    "            width_shift_range=0.2,\n",
    "            height_shift_range=0.2,\n",
    "            shear_range=0.2,\n",
    "            zoom_range=0.2,\n",
    "            **datagenerator_kwargs\n",
    "            )\n",
    "            \n",
    "            \n",
    "        else:\n",
    "            train_datagenerator= valid_datagenerator\n",
    "            \n",
    "        self.train_generator=train_datagenerator.flow_from_directory(\n",
    "            directory=self.config.training_data,\n",
    "            subset=None,\n",
    "            **dataflow_kwargs\n",
    "        )\n",
    "        \n",
    "    @staticmethod\n",
    "    def save_model(path: Path,model: tf.keras.models):\n",
    "        model.save(path)\n",
    "        \n",
    "        \n",
    "    def train(self):\n",
    "        self.steps_per_epoch = self.train_generator.samples // self.train_generator.batch_size\n",
    "        self.validation_steps = self.valid_generator.samples // self.valid_generator.batch_size\n",
    "        \n",
    "        self.model.fit(\n",
    "            self.train_generator,\n",
    "            epochs=self.config.params_epochs,\n",
    "            steps_per_epoch=self.steps_per_epoch,\n",
    "                        validation_steps=self.validation_steps,\n",
    "            validation_data=self.valid_generator\n",
    "        )\n",
    "\n",
    "        self.save_model(\n",
    "            path=self.config.trained_model_path,\n",
    "            model=self.model\n",
    "        )\n",
    "        \n",
    "         \n",
    "        "
   ]
  },
  {
   "cell_type": "code",
   "execution_count": 10,
   "metadata": {},
   "outputs": [
    {
     "name": "stdout",
     "output_type": "stream",
     "text": [
      "{2024-03-20 14:26:48,721:INFO:common:yaml_file:config\\config.yaml loaded sucessfully}\n",
      "{2024-03-20 14:26:48,994:INFO:common:yaml_file:params.yaml loaded sucessfully}\n",
      "{2024-03-20 14:26:49,184:INFO:common:created directory at:artifacts}\n",
      "{2024-03-20 14:26:49,186:INFO:common:created directory at:artifacts\\training}\n",
      "Found 93 images belonging to 2 classes.\n",
      "Found 465 images belonging to 2 classes.\n",
      "14/14 [==============================] - 6265s 467s/step - loss: 13.2317 - accuracy: 0.5173 - val_loss: 3.5103 - val_accuracy: 0.7500\n"
     ]
    }
   ],
   "source": [
    "try:\n",
    "    config = ConfigurationManager()\n",
    "    training_config = config.get_training_config()\n",
    "    training = Training(config=training_config)\n",
    "    training.get_base_model()\n",
    "    training.train_valid_generator()\n",
    "    training.train()\n",
    "    \n",
    "except Exception as e:\n",
    "    raise e"
   ]
  },
  {
   "cell_type": "code",
   "execution_count": null,
   "metadata": {},
   "outputs": [],
   "source": []
  }
 ],
 "metadata": {
  "kernelspec": {
   "display_name": ".venv",
   "language": "python",
   "name": "python3"
  },
  "language_info": {
   "codemirror_mode": {
    "name": "ipython",
    "version": 3
   },
   "file_extension": ".py",
   "mimetype": "text/x-python",
   "name": "python",
   "nbconvert_exporter": "python",
   "pygments_lexer": "ipython3",
   "version": "3.10.7"
  }
 },
 "nbformat": 4,
 "nbformat_minor": 2
}
